{
 "cells": [
  {
   "cell_type": "markdown",
   "metadata": {
    "papermill": {
     "duration": 0.016507,
     "end_time": "2021-02-10T07:35:34.005948",
     "exception": false,
     "start_time": "2021-02-10T07:35:33.989441",
     "status": "completed"
    },
    "tags": []
   },
   "source": [
    "# Import Libraries 📂"
   ]
  },
  {
   "cell_type": "code",
   "execution_count": 1,
   "metadata": {
    "execution": {
     "iopub.execute_input": "2021-02-10T07:35:34.044942Z",
     "iopub.status.busy": "2021-02-10T07:35:34.044029Z",
     "iopub.status.idle": "2021-02-10T07:35:40.509214Z",
     "shell.execute_reply": "2021-02-10T07:35:40.508451Z"
    },
    "papermill": {
     "duration": 6.487892,
     "end_time": "2021-02-10T07:35:40.509436",
     "exception": false,
     "start_time": "2021-02-10T07:35:34.021544",
     "status": "completed"
    },
    "tags": []
   },
   "outputs": [],
   "source": [
    "import numpy as np\n",
    "import pandas as pd\n",
    "\n",
    "from tensorflow.keras.layers import Input, Dense, BatchNormalization, Dropout, Activation\n",
    "from tensorflow.keras.models import Model, Sequential\n",
    "from tensorflow.keras.losses import BinaryCrossentropy\n",
    "from tensorflow.keras.layers.experimental.preprocessing import Normalization\n",
    "from tensorflow.keras.optimizers import Adam\n",
    "import tensorflow as tf\n",
    "import tensorflow_addons as tfa\n",
    "\n",
    "import warnings\n",
    "warnings.filterwarnings(\"ignore\")\n",
    "from tqdm import tqdm"
   ]
  },
  {
   "cell_type": "markdown",
   "metadata": {
    "papermill": {
     "duration": 0.016126,
     "end_time": "2021-02-10T07:35:40.543059",
     "exception": false,
     "start_time": "2021-02-10T07:35:40.526933",
     "status": "completed"
    },
    "tags": []
   },
   "source": [
    "# Importing Data 📚\n",
    "\n"
   ]
  },
  {
   "cell_type": "code",
   "execution_count": 2,
   "metadata": {
    "execution": {
     "iopub.execute_input": "2021-02-10T07:35:40.581283Z",
     "iopub.status.busy": "2021-02-10T07:35:40.580610Z",
     "iopub.status.idle": "2021-02-10T07:38:06.209444Z",
     "shell.execute_reply": "2021-02-10T07:38:06.210182Z"
    },
    "papermill": {
     "duration": 145.651156,
     "end_time": "2021-02-10T07:38:06.210409",
     "exception": false,
     "start_time": "2021-02-10T07:35:40.559253",
     "status": "completed"
    },
    "tags": []
   },
   "outputs": [
    {
     "name": "stdout",
     "output_type": "stream",
     "text": [
      "CPU times: user 1min 23s, sys: 6.67 s, total: 1min 30s\n",
      "Wall time: 2min 25s\n"
     ]
    }
   ],
   "source": [
    "%%time\n",
    "train = pd.read_csv('../input/jane-street-market-prediction/train.csv')\n",
    "train = train.astype({c: np.float32 for c in train.select_dtypes(include='float64').columns}) #limit memory use"
   ]
  },
  {
   "cell_type": "markdown",
   "metadata": {
    "papermill": {
     "duration": 0.015135,
     "end_time": "2021-02-10T07:38:06.241645",
     "exception": false,
     "start_time": "2021-02-10T07:38:06.226510",
     "status": "completed"
    },
    "tags": []
   },
   "source": [
    "# Preparing Data"
   ]
  },
  {
   "cell_type": "code",
   "execution_count": 3,
   "metadata": {
    "execution": {
     "iopub.execute_input": "2021-02-10T07:38:06.277343Z",
     "iopub.status.busy": "2021-02-10T07:38:06.276027Z",
     "iopub.status.idle": "2021-02-10T07:38:07.764734Z",
     "shell.execute_reply": "2021-02-10T07:38:07.764025Z"
    },
    "papermill": {
     "duration": 1.508063,
     "end_time": "2021-02-10T07:38:07.764886",
     "exception": false,
     "start_time": "2021-02-10T07:38:06.256823",
     "status": "completed"
    },
    "tags": []
   },
   "outputs": [
    {
     "data": {
      "text/plain": [
       "(1981287, 138)"
      ]
     },
     "execution_count": 3,
     "metadata": {},
     "output_type": "execute_result"
    }
   ],
   "source": [
    "#Нам не нужны сделки с нулевым весом, поэтому мы их игнорируем\n",
    "train = train.query('weight > 0').reset_index(drop = True)\n",
    "train.shape"
   ]
  },
  {
   "cell_type": "code",
   "execution_count": 4,
   "metadata": {
    "execution": {
     "iopub.execute_input": "2021-02-10T07:38:07.805173Z",
     "iopub.status.busy": "2021-02-10T07:38:07.803606Z",
     "iopub.status.idle": "2021-02-10T07:38:08.974652Z",
     "shell.execute_reply": "2021-02-10T07:38:08.974164Z"
    },
    "papermill": {
     "duration": 1.191947,
     "end_time": "2021-02-10T07:38:08.974787",
     "exception": false,
     "start_time": "2021-02-10T07:38:07.782840",
     "status": "completed"
    },
    "tags": []
   },
   "outputs": [
    {
     "data": {
      "text/plain": [
       "(1571415, 138)"
      ]
     },
     "execution_count": 4,
     "metadata": {},
     "output_type": "execute_result"
    }
   ],
   "source": [
    "#Данные будут с 86 дня\n",
    "train = train.query('date > 85').reset_index(drop = True)\n",
    "train.shape"
   ]
  },
  {
   "cell_type": "code",
   "execution_count": 5,
   "metadata": {
    "execution": {
     "iopub.execute_input": "2021-02-10T07:38:09.013118Z",
     "iopub.status.busy": "2021-02-10T07:38:09.012421Z",
     "iopub.status.idle": "2021-02-10T07:38:09.594014Z",
     "shell.execute_reply": "2021-02-10T07:38:09.592704Z"
    },
    "papermill": {
     "duration": 0.603028,
     "end_time": "2021-02-10T07:38:09.594207",
     "exception": false,
     "start_time": "2021-02-10T07:38:08.991179",
     "status": "completed"
    },
    "tags": []
   },
   "outputs": [],
   "source": [
    "#Заполняем пропущенные значения средним \n",
    "train.fillna(train.mean(),inplace=True)"
   ]
  },
  {
   "cell_type": "code",
   "execution_count": 6,
   "metadata": {
    "execution": {
     "iopub.execute_input": "2021-02-10T07:38:09.635182Z",
     "iopub.status.busy": "2021-02-10T07:38:09.634489Z",
     "iopub.status.idle": "2021-02-10T07:38:09.647871Z",
     "shell.execute_reply": "2021-02-10T07:38:09.647366Z"
    },
    "papermill": {
     "duration": 0.035466,
     "end_time": "2021-02-10T07:38:09.648008",
     "exception": false,
     "start_time": "2021-02-10T07:38:09.612542",
     "status": "completed"
    },
    "tags": []
   },
   "outputs": [],
   "source": [
    "#Генерируем значения 0 или 1 на основе функций resp и сохраняем их в столбце 'action'\n",
    "train['action'] = (train['resp'] > 0 ).astype('int')"
   ]
  },
  {
   "cell_type": "code",
   "execution_count": 7,
   "metadata": {
    "execution": {
     "iopub.execute_input": "2021-02-10T07:38:09.685171Z",
     "iopub.status.busy": "2021-02-10T07:38:09.684392Z",
     "iopub.status.idle": "2021-02-10T07:38:09.687015Z",
     "shell.execute_reply": "2021-02-10T07:38:09.687631Z"
    },
    "papermill": {
     "duration": 0.023674,
     "end_time": "2021-02-10T07:38:09.687823",
     "exception": false,
     "start_time": "2021-02-10T07:38:09.664149",
     "status": "completed"
    },
    "tags": []
   },
   "outputs": [],
   "source": [
    "resp_cols = ['resp_1', 'resp_2', 'resp_3', 'resp_4', 'resp']"
   ]
  },
  {
   "cell_type": "code",
   "execution_count": 8,
   "metadata": {
    "execution": {
     "iopub.execute_input": "2021-02-10T07:38:09.969967Z",
     "iopub.status.busy": "2021-02-10T07:38:09.968974Z",
     "iopub.status.idle": "2021-02-10T07:38:09.971745Z",
     "shell.execute_reply": "2021-02-10T07:38:09.972213Z"
    },
    "papermill": {
     "duration": 0.268032,
     "end_time": "2021-02-10T07:38:09.972426",
     "exception": false,
     "start_time": "2021-02-10T07:38:09.704394",
     "status": "completed"
    },
    "tags": []
   },
   "outputs": [],
   "source": [
    "features_train_data  = train.iloc[:,7:137]"
   ]
  },
  {
   "cell_type": "code",
   "execution_count": 9,
   "metadata": {
    "execution": {
     "iopub.execute_input": "2021-02-10T07:38:10.012876Z",
     "iopub.status.busy": "2021-02-10T07:38:10.011534Z",
     "iopub.status.idle": "2021-02-10T07:39:10.660778Z",
     "shell.execute_reply": "2021-02-10T07:39:10.659765Z"
    },
    "papermill": {
     "duration": 60.671501,
     "end_time": "2021-02-10T07:39:10.660948",
     "exception": false,
     "start_time": "2021-02-10T07:38:09.989447",
     "status": "completed"
    },
    "tags": []
   },
   "outputs": [],
   "source": [
    "# Найдем пары признаков с корреляцией > |0.9|\n",
    "def corrFilter(x: pd.DataFrame, bound: float):\n",
    "    xCorr = x.corr()\n",
    "    xFiltered = xCorr[((xCorr >= bound) | (xCorr <= -bound)) & (xCorr !=1.000)]\n",
    "    xFlattened = xFiltered.unstack().sort_values().drop_duplicates()\n",
    "    return xFlattened\n",
    "\n",
    "high_correlations=corrFilter(features_train_data, .9).to_frame()"
   ]
  },
  {
   "cell_type": "code",
   "execution_count": 10,
   "metadata": {
    "execution": {
     "iopub.execute_input": "2021-02-10T07:39:10.702997Z",
     "iopub.status.busy": "2021-02-10T07:39:10.700976Z",
     "iopub.status.idle": "2021-02-10T07:39:10.703708Z",
     "shell.execute_reply": "2021-02-10T07:39:10.704200Z"
    },
    "papermill": {
     "duration": 0.025335,
     "end_time": "2021-02-10T07:39:10.704349",
     "exception": false,
     "start_time": "2021-02-10T07:39:10.679014",
     "status": "completed"
    },
    "tags": []
   },
   "outputs": [],
   "source": [
    "all_drop_cols = set(high_correlations.index.get_level_values(0))"
   ]
  },
  {
   "cell_type": "code",
   "execution_count": 11,
   "metadata": {
    "execution": {
     "iopub.execute_input": "2021-02-10T07:39:10.743461Z",
     "iopub.status.busy": "2021-02-10T07:39:10.742749Z",
     "iopub.status.idle": "2021-02-10T07:39:10.746693Z",
     "shell.execute_reply": "2021-02-10T07:39:10.747350Z"
    },
    "papermill": {
     "duration": 0.025741,
     "end_time": "2021-02-10T07:39:10.747515",
     "exception": false,
     "start_time": "2021-02-10T07:39:10.721774",
     "status": "completed"
    },
    "tags": []
   },
   "outputs": [],
   "source": [
    "features = features_train_data.columns.tolist()"
   ]
  },
  {
   "cell_type": "code",
   "execution_count": 12,
   "metadata": {
    "execution": {
     "iopub.execute_input": "2021-02-10T07:39:10.787242Z",
     "iopub.status.busy": "2021-02-10T07:39:10.786447Z",
     "iopub.status.idle": "2021-02-10T07:39:10.790862Z",
     "shell.execute_reply": "2021-02-10T07:39:10.790349Z"
    },
    "papermill": {
     "duration": 0.02553,
     "end_time": "2021-02-10T07:39:10.790985",
     "exception": false,
     "start_time": "2021-02-10T07:39:10.765455",
     "status": "completed"
    },
    "tags": []
   },
   "outputs": [],
   "source": [
    "for i in all_drop_cols:\n",
    "    features.remove(i)"
   ]
  },
  {
   "cell_type": "code",
   "execution_count": 13,
   "metadata": {
    "execution": {
     "iopub.execute_input": "2021-02-10T07:39:10.832737Z",
     "iopub.status.busy": "2021-02-10T07:39:10.831456Z",
     "iopub.status.idle": "2021-02-10T07:39:11.232568Z",
     "shell.execute_reply": "2021-02-10T07:39:11.231972Z"
    },
    "papermill": {
     "duration": 0.424069,
     "end_time": "2021-02-10T07:39:11.232721",
     "exception": false,
     "start_time": "2021-02-10T07:39:10.808652",
     "status": "completed"
    },
    "tags": []
   },
   "outputs": [],
   "source": [
    "f_mean = train.loc[:, features].mean()"
   ]
  },
  {
   "cell_type": "markdown",
   "metadata": {
    "papermill": {
     "duration": 0.018126,
     "end_time": "2021-02-10T07:39:11.269856",
     "exception": false,
     "start_time": "2021-02-10T07:39:11.251730",
     "status": "completed"
    },
    "tags": []
   },
   "source": [
    "# Creating Train and Test DataFrame "
   ]
  },
  {
   "cell_type": "code",
   "execution_count": 14,
   "metadata": {
    "execution": {
     "iopub.execute_input": "2021-02-10T07:39:11.317592Z",
     "iopub.status.busy": "2021-02-10T07:39:11.316674Z",
     "iopub.status.idle": "2021-02-10T07:39:12.366336Z",
     "shell.execute_reply": "2021-02-10T07:39:12.365275Z"
    },
    "papermill": {
     "duration": 1.078405,
     "end_time": "2021-02-10T07:39:12.366498",
     "exception": false,
     "start_time": "2021-02-10T07:39:11.288093",
     "status": "completed"
    },
    "tags": []
   },
   "outputs": [
    {
     "name": "stdout",
     "output_type": "stream",
     "text": [
      "Make NN sample...\n",
      "(1571415, 90) (1571415, 5)\n",
      "(0, 90) (0, 5)\n"
     ]
    }
   ],
   "source": [
    "# VALID_DAYS = 50  # using for valid\n",
    "VALID_DAYS = 0   # using for LB\n",
    "resp_cols = ['resp_1', 'resp_2', 'resp_3', 'resp_4', 'resp']\n",
    "\n",
    "# ------------------------------- #\n",
    "#            NN sample            #\n",
    "# ------------------------------- #\n",
    "print('Make NN sample...')\n",
    "# train\n",
    "X_train = train[train['date'] <= 499-VALID_DAYS]\n",
    "y_train = np.stack([(X_train[c]>0).astype('int') for c in resp_cols]).T\n",
    "X_train = X_train.loc[:, features].values\n",
    "print(X_train.shape, y_train.shape)\n",
    "\n",
    "# valid\n",
    "X_valid = train[train['date'] > 499-VALID_DAYS]\n",
    "y_valid = np.stack([(X_valid[c]>0).astype('int') for c in resp_cols]).T\n",
    "X_valid = X_valid.loc[:, features].values\n",
    "print(X_valid.shape, y_valid.shape)"
   ]
  },
  {
   "cell_type": "code",
   "execution_count": 15,
   "metadata": {
    "execution": {
     "iopub.execute_input": "2021-02-10T07:39:12.417572Z",
     "iopub.status.busy": "2021-02-10T07:39:12.416921Z",
     "iopub.status.idle": "2021-02-10T07:39:15.733842Z",
     "shell.execute_reply": "2021-02-10T07:39:15.732890Z"
    },
    "papermill": {
     "duration": 3.348887,
     "end_time": "2021-02-10T07:39:15.733996",
     "exception": false,
     "start_time": "2021-02-10T07:39:12.385109",
     "status": "completed"
    },
    "tags": []
   },
   "outputs": [],
   "source": [
    "# ------------------------------------------- #\n",
    "#                   model                     #\n",
    "# ------------------------------------------- #\n",
    "HIDDEN_LAYER_1 = [256, 256]\n",
    "HIDDEN_LAYER_2 = [160, 160, 160]\n",
    "HIDDEN_LAYER_3 = [128, 128, 128, 128]\n",
    "TARGET_NUM = 5   # Оптимизируем эти 5 респ\n",
    "\n",
    "input = tf.keras.layers.Input(shape=(X_train.shape[1], ))\n",
    "\n",
    "#part_1\n",
    "x1 = tf.keras.layers.BatchNormalization()(input)\n",
    "x1 = tf.keras.layers.Dropout(0.25)(x1)\n",
    "for units in HIDDEN_LAYER_1:\n",
    "    x1 = tf.keras.layers.Dense(units)(x1)\n",
    "    x1 = tf.keras.layers.BatchNormalization()(x1)\n",
    "    x1 = tf.keras.layers.Activation(tf.keras.activations.swish)(x1)\n",
    "    x1 = tf.keras.layers.Dropout(0.25)(x1)\n",
    "\n",
    "# part_2\n",
    "x2 = tf.keras.layers.BatchNormalization()(input)\n",
    "x2 = tf.keras.layers.Dropout(0.25)(x2)\n",
    "for units in HIDDEN_LAYER_2:\n",
    "    x2 = tf.keras.layers.Dense(units)(x2)\n",
    "    x2 = tf.keras.layers.BatchNormalization()(x2)\n",
    "    x2 = tf.keras.layers.Activation(tf.keras.activations.swish)(x2)\n",
    "    x2 = tf.keras.layers.Dropout(0.25)(x2)\n",
    "    \n",
    "# part_3\n",
    "x3 = tf.keras.layers.BatchNormalization()(input)\n",
    "x3 = tf.keras.layers.Dropout(0.25)(x3)\n",
    "for units in HIDDEN_LAYER_3:\n",
    "    x3 = tf.keras.layers.Dense(units)(x3)\n",
    "    x3 = tf.keras.layers.BatchNormalization()(x3)\n",
    "    x3 = tf.keras.layers.Activation(tf.keras.activations.swish)(x3)\n",
    "    x3 = tf.keras.layers.Dropout(0.25)(x3)\n",
    "\n",
    "x = tf.keras.layers.concatenate([x1, x2, x3])\n",
    "x = tf.keras.layers.Dense(TARGET_NUM)(x)\n",
    "\n",
    "output = tf.keras.layers.Activation(\"sigmoid\")(x)\n",
    "\n",
    "model = tf.keras.models.Model(inputs=input, outputs=output)\n",
    "model.compile(\n",
    "    optimizer = tfa.optimizers.RectifiedAdam(learning_rate=1e-3),\n",
    "    metrics   = tf.keras.metrics.AUC(name=\"AUC\"),\n",
    "    loss      = tf.keras.losses.BinaryCrossentropy(label_smoothing=1e-2),\n",
    ")"
   ]
  },
  {
   "cell_type": "code",
   "execution_count": 16,
   "metadata": {
    "execution": {
     "iopub.execute_input": "2021-02-10T07:39:15.779627Z",
     "iopub.status.busy": "2021-02-10T07:39:15.778960Z",
     "iopub.status.idle": "2021-02-10T07:44:16.188729Z",
     "shell.execute_reply": "2021-02-10T07:44:16.189457Z"
    },
    "papermill": {
     "duration": 300.435639,
     "end_time": "2021-02-10T07:44:16.189718",
     "exception": false,
     "start_time": "2021-02-10T07:39:15.754079",
     "status": "completed"
    },
    "tags": []
   },
   "outputs": [
    {
     "name": "stdout",
     "output_type": "stream",
     "text": [
      "Epoch 1/25\n",
      "384/384 [==============================] - 22s 31ms/step - loss: 0.7432 - AUC: 0.5095\n",
      "Epoch 2/25\n",
      "384/384 [==============================] - 11s 30ms/step - loss: 0.6954 - AUC: 0.5263\n",
      "Epoch 3/25\n",
      "384/384 [==============================] - 11s 30ms/step - loss: 0.6912 - AUC: 0.5338\n",
      "Epoch 4/25\n",
      "384/384 [==============================] - 12s 30ms/step - loss: 0.6902 - AUC: 0.5394\n",
      "Epoch 5/25\n",
      "384/384 [==============================] - 11s 30ms/step - loss: 0.6899 - AUC: 0.5420\n",
      "Epoch 6/25\n",
      "384/384 [==============================] - 12s 30ms/step - loss: 0.6895 - AUC: 0.5439\n",
      "Epoch 7/25\n",
      "384/384 [==============================] - 11s 30ms/step - loss: 0.6892 - AUC: 0.5456\n",
      "Epoch 8/25\n",
      "384/384 [==============================] - 12s 30ms/step - loss: 0.6891 - AUC: 0.5461\n",
      "Epoch 9/25\n",
      "384/384 [==============================] - 12s 30ms/step - loss: 0.6890 - AUC: 0.5467\n",
      "Epoch 10/25\n",
      "384/384 [==============================] - 12s 31ms/step - loss: 0.6889 - AUC: 0.5475\n",
      "Epoch 11/25\n",
      "384/384 [==============================] - 11s 29ms/step - loss: 0.6887 - AUC: 0.5484\n",
      "Epoch 12/25\n",
      "384/384 [==============================] - 12s 30ms/step - loss: 0.6884 - AUC: 0.5501\n",
      "Epoch 13/25\n",
      "384/384 [==============================] - 11s 30ms/step - loss: 0.6884 - AUC: 0.5500\n",
      "Epoch 14/25\n",
      "384/384 [==============================] - 11s 30ms/step - loss: 0.6881 - AUC: 0.5513\n",
      "Epoch 15/25\n",
      "384/384 [==============================] - 12s 30ms/step - loss: 0.6883 - AUC: 0.5503\n",
      "Epoch 16/25\n",
      "384/384 [==============================] - 11s 30ms/step - loss: 0.6881 - AUC: 0.5509\n",
      "Epoch 17/25\n",
      "384/384 [==============================] - 11s 30ms/step - loss: 0.6878 - AUC: 0.5531\n",
      "Epoch 18/25\n",
      "384/384 [==============================] - 12s 32ms/step - loss: 0.6879 - AUC: 0.5524\n",
      "Epoch 19/25\n",
      "384/384 [==============================] - 12s 30ms/step - loss: 0.6877 - AUC: 0.5528\n",
      "Epoch 20/25\n",
      "384/384 [==============================] - 11s 30ms/step - loss: 0.6876 - AUC: 0.5531\n",
      "Epoch 21/25\n",
      "384/384 [==============================] - 12s 30ms/step - loss: 0.6876 - AUC: 0.5534\n",
      "Epoch 22/25\n",
      "384/384 [==============================] - 11s 30ms/step - loss: 0.6874 - AUC: 0.5544\n",
      "Epoch 23/25\n",
      "384/384 [==============================] - 12s 30ms/step - loss: 0.6874 - AUC: 0.5545\n",
      "Epoch 24/25\n",
      "384/384 [==============================] - 12s 30ms/step - loss: 0.6873 - AUC: 0.5552\n",
      "Epoch 25/25\n",
      "384/384 [==============================] - 12s 30ms/step - loss: 0.6872 - AUC: 0.5551\n"
     ]
    }
   ],
   "source": [
    "history = model.fit(\n",
    "    x = X_train, \n",
    "    y = y_train, \n",
    "    epochs=25, \n",
    "    batch_size=4096, \n",
    "    validation_data=(X_valid, y_valid),\n",
    ")\n",
    "models = []\n",
    "models.append(model)"
   ]
  },
  {
   "cell_type": "markdown",
   "metadata": {
    "papermill": {
     "duration": 1.632645,
     "end_time": "2021-02-10T07:44:19.812428",
     "exception": false,
     "start_time": "2021-02-10T07:44:18.179783",
     "status": "completed"
    },
    "tags": []
   },
   "source": [
    "# Prediction"
   ]
  },
  {
   "cell_type": "code",
   "execution_count": 17,
   "metadata": {
    "execution": {
     "iopub.execute_input": "2021-02-10T07:44:23.151199Z",
     "iopub.status.busy": "2021-02-10T07:44:23.150352Z",
     "iopub.status.idle": "2021-02-10T07:50:22.013022Z",
     "shell.execute_reply": "2021-02-10T07:50:22.013592Z"
    },
    "papermill": {
     "duration": 360.55824,
     "end_time": "2021-02-10T07:50:22.013793",
     "exception": false,
     "start_time": "2021-02-10T07:44:21.455553",
     "status": "completed"
    },
    "tags": []
   },
   "outputs": [
    {
     "name": "stderr",
     "output_type": "stream",
     "text": [
      "0it [00:00, ?it/s]"
     ]
    },
    {
     "name": "stdout",
     "output_type": "stream",
     "text": [
      "predicting...\n"
     ]
    },
    {
     "name": "stderr",
     "output_type": "stream",
     "text": [
      "15219it [05:58, 42.41it/s]\n"
     ]
    }
   ],
   "source": [
    "THRESHOLD = 0.502\n",
    "\n",
    "import janestreet\n",
    "from tqdm import tqdm\n",
    "janestreet.make_env.__called__ = False\n",
    "env = janestreet.make_env()\n",
    "\n",
    "print('predicting...')\n",
    "\n",
    "for (test_df, pred_df) in tqdm(env.iter_test()):\n",
    "    if test_df['weight'].item() > 0:\n",
    "        \n",
    "        X_test = test_df.loc[:, features].values\n",
    "        if np.isnan(X_test.sum()):  # Заполните numpy, скорость будет быстрее\n",
    "            X_test = np.nan_to_num(X_test) + np.isnan(X_test) * f_mean.values\n",
    "        pred = model(X_test, training = False).numpy()\n",
    "        pred = np.mean(pred)\n",
    "        \n",
    "        pred_df.action = np.where(pred >= THRESHOLD, 1, 0).astype(int)\n",
    "\n",
    "    else:\n",
    "        pred_df.action = 0\n",
    "    env.predict(pred_df)"
   ]
  }
 ],
 "metadata": {
  "kernelspec": {
   "display_name": "Python 3",
   "language": "python",
   "name": "python3"
  },
  "language_info": {
   "codemirror_mode": {
    "name": "ipython",
    "version": 3
   },
   "file_extension": ".py",
   "mimetype": "text/x-python",
   "name": "python",
   "nbconvert_exporter": "python",
   "pygments_lexer": "ipython3",
   "version": "3.7.9"
  },
  "papermill": {
   "default_parameters": {},
   "duration": 900.478327,
   "end_time": "2021-02-10T07:50:28.419877",
   "environment_variables": {},
   "exception": null,
   "input_path": "__notebook__.ipynb",
   "output_path": "__notebook__.ipynb",
   "parameters": {},
   "start_time": "2021-02-10T07:35:27.941550",
   "version": "2.2.2"
  }
 },
 "nbformat": 4,
 "nbformat_minor": 4
}
